{
 "cells": [
  {
   "cell_type": "markdown",
   "id": "26a486e7-a64c-4640-b26d-57bd57951204",
   "metadata": {
    "scrolled": true
   },
   "source": [
    "# Final project: Analyzing Lifestyle, Employment, and Physical Activity Factors Related to Prediabetes Risk\n",
    "\n",
    "## Objective\n",
    "The objective of this project is to investigate the relationship between prediabetes and various lifestyle, nutritional, and socioeconomic factors in adults using a dataset of the Korea National Health and Nutrition Examination Survey (KNHANES). \n",
    "\n",
    "We are going to analyze the role of physical activity and employment status in prediabetes risk using statistical methods such as hypothesis testing and correlation analysis (Pearson, Spearman, Kendall's Tau, Point-Biserial, and Phi coefficient) to derive insights.\n",
    "\n",
    "## Dataset\n",
    "* sex: Participant's gender.\n",
    "Values:\n",
    "1: Male\n",
    "0: Female\n",
    "* age: Participant’s age in years, between 19 and 60.\n",
    "* HE_wt: Participant’s weight in kilograms\n",
    "* HE_ht: Participant’s height in centimeters.\n",
    "* EC1_1: Employment status of the participant.\n",
    "Values:\n",
    "1: Employed\n",
    "0: Not employed\n",
    "* EC_stt_1: Type of employment.\n",
    "Values:\n",
    "0: unemployed\n",
    "1: salaried_worker (regular employee)\n",
    "2: self-employed_without_employees\n",
    "3: self-employed_with_employees\n",
    "4: unpaid_family_worker\n",
    "* EC_occp: Occupational category of the participant.\n",
    "Values:\n",
    "0: unemployed\n",
    "1: manager\n",
    "2: professional\n",
    "3: office_worker (clerical support)\n",
    "4: service_worker\n",
    "5: sales_worker\n",
    "6: agricultural_worker\n",
    "7: skilled_worker (technical or craft worker)\n",
    "8: assembly_worker (manufacturing or assembly jobs)\n",
    "9: laborer (general labor)\n",
    "10: soldier\n",
    "* EC_wht_23: Total hours worked per week for employed participants.\n",
    "Values:\n",
    "0: No work hours (if unemployed or economically inactive)\n",
    "Positive integers for employed participants.\n",
    "* BE3_31: Number of days walking per week. Between 0 (never) and 7 (every day).\n",
    "* BE5_1: Number of days strength training per week. Between 0 (never) and 7 (every day).\n",
    "* BE3_72: Number of days performing high-intensity work activity per week. Between 0 (never) and 7 (every day).\n",
    "* BE3_82: Number of days performing moderate-intensity work activity per week. Between 0 (never) and 7 (every day).\n",
    "* BE3_76: Number of days performing high-intensity leisure activity per week. Between 0 (never) and 7 (every day).\n",
    "* BE3_86: Number of days performing moderate-intensity leisure activity per week. Between 0 (never) and 7 (every day).\n",
    "* BO3_01: Weight control through exercise.\n",
    "Values:\n",
    "1: Exercising for weight control\n",
    "0: Not exercising for weight control\n",
    "* diabetes: Diabetes status of the participant.\n",
    "Values:\n",
    "0: Normal (no diabetes)\n",
    "1: Pre-diabetes"
   ]
  },
  {
   "cell_type": "code",
   "execution_count": null,
   "id": "8b77171f-d789-4ea6-a1a7-813d2527d1bf",
   "metadata": {},
   "outputs": [],
   "source": []
  }
 ],
 "metadata": {
  "kernelspec": {
   "display_name": "Python [conda env:base] *",
   "language": "python",
   "name": "conda-base-py"
  },
  "language_info": {
   "codemirror_mode": {
    "name": "ipython",
    "version": 3
   },
   "file_extension": ".py",
   "mimetype": "text/x-python",
   "name": "python",
   "nbconvert_exporter": "python",
   "pygments_lexer": "ipython3",
   "version": "3.12.7"
  }
 },
 "nbformat": 4,
 "nbformat_minor": 5
}
