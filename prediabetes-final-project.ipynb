{
 "cells": [
  {
   "cell_type": "code",
   "execution_count": 3,
   "id": "001f0da0-1d85-49ae-ab55-1965f7ff1c22",
   "metadata": {},
   "outputs": [
    {
     "name": "stdout",
     "output_type": "stream",
     "text": [
      "       sex  age  HE_wt  HE_ht  EC1_1  EC_stt_1  EC_occp  EC_wht_23  BE3_31  \\\n",
      "0        1   47   82.9  171.8      1         2        5         36       7   \n",
      "1        0   53   45.6  157.5      1         2        5         20       7   \n",
      "2        1   40   82.6  173.5      1         1        5         40       2   \n",
      "3        1   36   79.2  177.2      1         1        2         45       6   \n",
      "4        1   19   73.0  178.5      1         1        9          8       7   \n",
      "...    ...  ...    ...    ...    ...       ...      ...        ...     ...   \n",
      "16132    1   52   75.6  172.7      1         1        3         40       7   \n",
      "16133    1   58   64.5  171.0      1         1        7         35       7   \n",
      "16134    1   36   71.7  174.8      1         1        8         38       0   \n",
      "16135    1   57   86.9  170.5      1         2        6         70       0   \n",
      "16136    0   60   68.9  159.6      1         3        9         20       7   \n",
      "\n",
      "       BE5_1  BE3_72  BE3_82  BE3_76  BE3_86  BO3_01  diabetes  \n",
      "0          0       0       0       0       2       0         0  \n",
      "1          0       0       0       0       0       0         1  \n",
      "2          3       0       3       5       0       1         0  \n",
      "3          0       0       0       0       0       0         1  \n",
      "4          4       1       0       1       0       0         0  \n",
      "...      ...     ...     ...     ...     ...     ...       ...  \n",
      "16132      2       0       0       3       5       1         0  \n",
      "16133      5       0       0       0       0       0         0  \n",
      "16134      0       0       0       0       0       0         0  \n",
      "16135      0       0       0       0       0       0         1  \n",
      "16136      0       0       0       0       0       1         1  \n",
      "\n",
      "[16137 rows x 16 columns]\n"
     ]
    }
   ],
   "source": [
    "import pandas as pd\n",
    "\n",
    "df = pd.read_csv(\"Prediabetes.csv\")\n",
    "\n",
    "print(df)"
   ]
  },
  {
   "cell_type": "code",
   "execution_count": null,
   "id": "8b77171f-d789-4ea6-a1a7-813d2527d1bf",
   "metadata": {},
   "outputs": [],
   "source": []
  }
 ],
 "metadata": {
  "kernelspec": {
   "display_name": "Python [conda env:base] *",
   "language": "python",
   "name": "conda-base-py"
  },
  "language_info": {
   "codemirror_mode": {
    "name": "ipython",
    "version": 3
   },
   "file_extension": ".py",
   "mimetype": "text/x-python",
   "name": "python",
   "nbconvert_exporter": "python",
   "pygments_lexer": "ipython3",
   "version": "3.12.7"
  }
 },
 "nbformat": 4,
 "nbformat_minor": 5
}
